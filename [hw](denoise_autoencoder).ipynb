{
  "nbformat": 4,
  "nbformat_minor": 0,
  "metadata": {
    "colab": {
      "provenance": [],
      "gpuType": "T4",
      "toc_visible": true
    },
    "kernelspec": {
      "name": "python3",
      "display_name": "Python 3"
    },
    "language_info": {
      "name": "python"
    },
    "accelerator": "GPU"
  },
  "cells": [
    {
      "cell_type": "markdown",
      "source": [
        "# Create your denoise autoencoder using convolutional layers."
      ],
      "metadata": {
        "id": "9QEtc372b5wP"
      }
    },
    {
      "cell_type": "markdown",
      "source": [
        "## Import necesssary library"
      ],
      "metadata": {
        "id": "BO7PCuwmb9bV"
      }
    },
    {
      "cell_type": "code",
      "execution_count": 1,
      "metadata": {
        "id": "9cybskDbaqE7"
      },
      "outputs": [],
      "source": [
        "import time\n",
        "import copy\n",
        "import torch\n",
        "import torch.nn as nn\n",
        "import torch.optim as optim\n",
        "import numpy as np\n",
        "import matplotlib.pyplot as plt\n",
        "from torch.utils.data import DataLoader, Subset\n",
        "from torchvision import datasets, transforms\n",
        "from sklearn.model_selection import train_test_split\n",
        "from skimage.util import random_noise\n",
        "\n",
        "try:\n",
        "    from torchinfo import summary\n",
        "except:\n",
        "    !pip install -q torchinfo\n",
        "    from torchinfo import summary"
      ]
    },
    {
      "cell_type": "markdown",
      "source": [
        "## Define the device"
      ],
      "metadata": {
        "id": "eeT5UeI0cGGK"
      }
    },
    {
      "cell_type": "code",
      "source": [
        "device = torch.device(\"cuda:0\" if torch.cuda.is_available() else \"cpu\")\n",
        "device"
      ],
      "metadata": {
        "colab": {
          "base_uri": "https://localhost:8080/"
        },
        "id": "2AXsUqoVb2dV",
        "outputId": "24c003d9-195b-48b4-91d3-b7374c37daf3"
      },
      "execution_count": 2,
      "outputs": [
        {
          "output_type": "execute_result",
          "data": {
            "text/plain": [
              "device(type='cuda', index=0)"
            ]
          },
          "metadata": {},
          "execution_count": 2
        }
      ]
    },
    {
      "cell_type": "markdown",
      "source": [
        "## Define the DataLoader for training and validation datasets"
      ],
      "metadata": {
        "id": "WLY8nS7ncNk3"
      }
    },
    {
      "cell_type": "code",
      "source": [
        "transform = transforms.Compose([transforms.ToTensor(), transforms.Normalize((0.5,), (0.5,))])\n",
        "\n",
        "mnist_train = datasets.MNIST(root='./data', train=True, download=True, transform=transform)\n",
        "mnist_test = datasets.MNIST(root='./data', train=False, download=True, transform=transform)\n",
        "\n",
        "# Constants\n",
        "VAL_SIZE = 0.2\n",
        "BATCH_SIZE = 64\n",
        "\n",
        "# Generate indices for train-validation split\n",
        "train_indices, val_indices, _, _ = train_test_split(\n",
        "    range(len(mnist_train)),\n",
        "    mnist_train.targets,\n",
        "    stratify=mnist_train.targets,\n",
        "    test_size=VAL_SIZE,\n",
        ")\n",
        "\n",
        "# Generate Subset based on indices\n",
        "train_split = Subset(mnist_train, train_indices)\n",
        "val_split = Subset(mnist_train, val_indices)\n",
        "\n",
        "# Create DataLoaders\n",
        "Tr_dataloader = DataLoader(train_split, batch_size=BATCH_SIZE, shuffle=True)\n",
        "Va_dataloader = DataLoader(val_split, batch_size=BATCH_SIZE, shuffle=True)\n",
        "Ts_dataloader = DataLoader(mnist_test, batch_size=BATCH_SIZE, shuffle=True)"
      ],
      "metadata": {
        "id": "DTmokqFrb2f4"
      },
      "execution_count": 3,
      "outputs": []
    },
    {
      "cell_type": "markdown",
      "source": [
        "## Define the Convolutional Denoise Autoencoder model"
      ],
      "metadata": {
        "id": "0DxeFxX3cVAD"
      }
    },
    {
      "cell_type": "code",
      "source": [
        "class DenoiseAutoencoder(nn.Module):\n",
        "    def __init__(self):\n",
        "        super(DenoiseAutoencoder, self).__init__()\n",
        "\n",
        "        self.encoder = nn.Sequential(\n",
        "            nn.Conv2d(1, 32, kernel_size=3, stride=1, padding=1),\n",
        "            nn.ReLU(),\n",
        "            nn.MaxPool2d(kernel_size=2, stride=2),\n",
        "            nn.Conv2d(32, 64, kernel_size=3, stride=1, padding=1),\n",
        "            nn.ReLU(),\n",
        "            nn.MaxPool2d(kernel_size=2, stride=2)\n",
        "        )\n",
        "\n",
        "        self.decoder = nn.Sequential(\n",
        "            nn.ConvTranspose2d(64, 32, kernel_size=2, stride=2),\n",
        "            nn.ReLU(),\n",
        "            nn.ConvTranspose2d(32, 1, kernel_size=2, stride=2),\n",
        "            nn.Sigmoid()\n",
        "        )\n",
        "\n",
        "    def forward(self, x):\n",
        "        x = x.to(torch.float32)  # Convert input to float32\n",
        "        encoded = self.encoder(x)\n",
        "        decoded = self.decoder(encoded)\n",
        "        return decoded"
      ],
      "metadata": {
        "id": "wDbfYf6ab2iU"
      },
      "execution_count": 4,
      "outputs": []
    },
    {
      "cell_type": "markdown",
      "source": [
        "## Add noise to the input data"
      ],
      "metadata": {
        "id": "akmV9dowjr84"
      }
    },
    {
      "cell_type": "code",
      "source": [
        "def add_noise(img):\n",
        "    img_cpu = img.cpu().detach().numpy()  # Move to CPU before converting to NumPy array\n",
        "    noise = torch.tensor(random_noise(img_cpu, mode='gaussian', seed=None, clip=True), device=device)\n",
        "    return img + noise"
      ],
      "metadata": {
        "id": "kGG7Wo0hjxaH"
      },
      "execution_count": 5,
      "outputs": []
    },
    {
      "cell_type": "markdown",
      "source": [
        "## Define the training function"
      ],
      "metadata": {
        "id": "bLpXJQUecdVL"
      }
    },
    {
      "cell_type": "code",
      "source": [
        "def train_AE(model, dataloaders, criterion, optimizer, num_epochs=10):\n",
        "    start = time.time()\n",
        "\n",
        "    va_loss_history = []\n",
        "    tr_loss_history = []\n",
        "\n",
        "    best_model_wts = copy.deepcopy(model.state_dict())\n",
        "    best_val = np.inf\n",
        "\n",
        "    for epoch in range(num_epochs):\n",
        "        epoch_start = time.time()\n",
        "\n",
        "        print('Epoch {}/{}'.format(epoch, num_epochs - 1))\n",
        "        print('-' * 10)\n",
        "\n",
        "        for phase in ['train', 'val']:\n",
        "            if phase == 'train':\n",
        "                model.train()\n",
        "                dataloader = dataloaders['train']\n",
        "            else:\n",
        "                model.eval()\n",
        "                dataloader = dataloaders['val']\n",
        "\n",
        "            running_loss = 0.0\n",
        "\n",
        "            for inputs, labels in dataloader:\n",
        "                inputs = inputs.to(device)\n",
        "                inputs_noisy = add_noise(inputs)  # Add noise to the input data\n",
        "                optimizer.zero_grad()\n",
        "\n",
        "                with torch.set_grad_enabled(phase == 'train'):\n",
        "                    outputs = model(inputs_noisy)\n",
        "                    loss = criterion(outputs, inputs)\n",
        "\n",
        "                    if phase == 'train':\n",
        "                        loss.backward()\n",
        "                        optimizer.step()\n",
        "\n",
        "                running_loss += loss.item() * inputs.size(0)\n",
        "\n",
        "            epoch_loss = running_loss / len(dataloader.dataset)\n",
        "            print('{} Loss: {:.4f}'.format(phase, epoch_loss))\n",
        "\n",
        "            if phase == 'val' and epoch_loss < best_val:\n",
        "                best_val = epoch_loss\n",
        "                best_model_wts = copy.deepcopy(model.state_dict())\n",
        "\n",
        "            # Store the loss values correctly\n",
        "            if phase == 'val':\n",
        "                va_loss_history.append(epoch_loss)\n",
        "            if phase == 'train':\n",
        "                tr_loss_history.append(epoch_loss)  # Append the current loss to the list\n",
        "\n",
        "        epoch_end = time.time()\n",
        "        elapsed_epoch = epoch_end - epoch_start\n",
        "        print(\"Epoch time taken: {:.0f}m {:.0f}s\".format(elapsed_epoch // 60, elapsed_epoch % 60))\n",
        "        print()\n",
        "\n",
        "    time_elapsed = time.time() - start\n",
        "    print('Training complete in {:.0f}m {:.0f}s'.format(time_elapsed // 60, time_elapsed % 60))\n",
        "    print('Best Validate Loss: {:.4f}'.format(best_val))\n",
        "    model.load_state_dict(best_model_wts)\n",
        "    return model, tr_loss_history, va_loss_history"
      ],
      "metadata": {
        "id": "FaZdVrFJb2kq"
      },
      "execution_count": 6,
      "outputs": []
    },
    {
      "cell_type": "markdown",
      "source": [
        "## Move model to target device (GPU)"
      ],
      "metadata": {
        "id": "ppIya76uctW9"
      }
    },
    {
      "cell_type": "code",
      "source": [
        "model = DenoiseAutoencoder().to(device)\n",
        "\n",
        "# Print the model architecture using torchsummary\n",
        "print(model)\n",
        "summary(model, input_size=(1, 28, 28))  # Assuming MNIST images are 28x28 pixels"
      ],
      "metadata": {
        "colab": {
          "base_uri": "https://localhost:8080/"
        },
        "id": "k0rfGFAxb2nQ",
        "outputId": "5a2c7616-f807-472a-c0d7-5df6d75d6def"
      },
      "execution_count": 7,
      "outputs": [
        {
          "output_type": "stream",
          "name": "stdout",
          "text": [
            "DenoiseAutoencoder(\n",
            "  (encoder): Sequential(\n",
            "    (0): Conv2d(1, 32, kernel_size=(3, 3), stride=(1, 1), padding=(1, 1))\n",
            "    (1): ReLU()\n",
            "    (2): MaxPool2d(kernel_size=2, stride=2, padding=0, dilation=1, ceil_mode=False)\n",
            "    (3): Conv2d(32, 64, kernel_size=(3, 3), stride=(1, 1), padding=(1, 1))\n",
            "    (4): ReLU()\n",
            "    (5): MaxPool2d(kernel_size=2, stride=2, padding=0, dilation=1, ceil_mode=False)\n",
            "  )\n",
            "  (decoder): Sequential(\n",
            "    (0): ConvTranspose2d(64, 32, kernel_size=(2, 2), stride=(2, 2))\n",
            "    (1): ReLU()\n",
            "    (2): ConvTranspose2d(32, 1, kernel_size=(2, 2), stride=(2, 2))\n",
            "    (3): Sigmoid()\n",
            "  )\n",
            ")\n"
          ]
        },
        {
          "output_type": "execute_result",
          "data": {
            "text/plain": [
              "==========================================================================================\n",
              "Layer (type:depth-idx)                   Output Shape              Param #\n",
              "==========================================================================================\n",
              "DenoiseAutoencoder                       [1, 28, 28]               --\n",
              "├─Sequential: 1-1                        [64, 7, 7]                --\n",
              "│    └─Conv2d: 2-1                       [32, 28, 28]              320\n",
              "│    └─ReLU: 2-2                         [32, 28, 28]              --\n",
              "│    └─MaxPool2d: 2-3                    [32, 14, 14]              --\n",
              "│    └─Conv2d: 2-4                       [64, 14, 14]              18,496\n",
              "│    └─ReLU: 2-5                         [64, 14, 14]              --\n",
              "│    └─MaxPool2d: 2-6                    [64, 7, 7]                --\n",
              "├─Sequential: 1-2                        [1, 28, 28]               --\n",
              "│    └─ConvTranspose2d: 2-7              [32, 14, 14]              8,224\n",
              "│    └─ReLU: 2-8                         [32, 14, 14]              --\n",
              "│    └─ConvTranspose2d: 2-9              [1, 28, 28]               129\n",
              "│    └─Sigmoid: 2-10                     [1, 28, 28]               --\n",
              "==========================================================================================\n",
              "Total params: 27,169\n",
              "Trainable params: 27,169\n",
              "Non-trainable params: 0\n",
              "Total mult-adds (M): 20.55\n",
              "==========================================================================================\n",
              "Input size (MB): 0.00\n",
              "Forward/backward pass size (MB): 0.36\n",
              "Params size (MB): 0.11\n",
              "Estimated Total Size (MB): 0.47\n",
              "=========================================================================================="
            ]
          },
          "metadata": {},
          "execution_count": 7
        }
      ]
    },
    {
      "cell_type": "markdown",
      "source": [
        "## Define the criterion and optimizer"
      ],
      "metadata": {
        "id": "VaI8n8eVj_B5"
      }
    },
    {
      "cell_type": "code",
      "source": [
        "criterion = nn.MSELoss()\n",
        "params_to_update = model.parameters()\n",
        "optimizer = optim.Adam(params_to_update, lr=0.001)"
      ],
      "metadata": {
        "id": "cSPbiRNykIcK"
      },
      "execution_count": 8,
      "outputs": []
    },
    {
      "cell_type": "markdown",
      "source": [
        "## Train the model"
      ],
      "metadata": {
        "id": "m71Wx8atkI8L"
      }
    },
    {
      "cell_type": "code",
      "source": [
        "model, tr_loss_history, va_loss_history = train_AE(model, {\"train\": Tr_dataloader, \"val\": Va_dataloader}, criterion, optimizer)"
      ],
      "metadata": {
        "colab": {
          "base_uri": "https://localhost:8080/"
        },
        "id": "sBiX8SM8b2pr",
        "outputId": "4196ae57-1fe1-4485-a710-4aac6b261135"
      },
      "execution_count": 9,
      "outputs": [
        {
          "output_type": "stream",
          "name": "stdout",
          "text": [
            "Epoch 0/9\n",
            "----------\n",
            "train Loss: 0.9034\n",
            "val Loss: 0.8537\n",
            "Epoch time taken: 0m 18s\n",
            "\n",
            "Epoch 1/9\n",
            "----------\n",
            "train Loss: 0.8484\n",
            "val Loss: 0.8396\n",
            "Epoch time taken: 0m 18s\n",
            "\n",
            "Epoch 2/9\n",
            "----------\n",
            "train Loss: 0.8388\n",
            "val Loss: 0.8379\n",
            "Epoch time taken: 0m 19s\n",
            "\n",
            "Epoch 3/9\n",
            "----------\n",
            "train Loss: 0.8377\n",
            "val Loss: 0.8371\n",
            "Epoch time taken: 0m 18s\n",
            "\n",
            "Epoch 4/9\n",
            "----------\n",
            "train Loss: 0.8371\n",
            "val Loss: 0.8366\n",
            "Epoch time taken: 0m 18s\n",
            "\n",
            "Epoch 5/9\n",
            "----------\n",
            "train Loss: 0.8367\n",
            "val Loss: 0.8363\n",
            "Epoch time taken: 0m 18s\n",
            "\n",
            "Epoch 6/9\n",
            "----------\n",
            "train Loss: 0.8364\n",
            "val Loss: 0.8361\n",
            "Epoch time taken: 0m 18s\n",
            "\n",
            "Epoch 7/9\n",
            "----------\n",
            "train Loss: 0.8361\n",
            "val Loss: 0.8359\n",
            "Epoch time taken: 0m 18s\n",
            "\n",
            "Epoch 8/9\n",
            "----------\n",
            "train Loss: 0.8359\n",
            "val Loss: 0.8357\n",
            "Epoch time taken: 0m 17s\n",
            "\n",
            "Epoch 9/9\n",
            "----------\n",
            "train Loss: 0.8358\n",
            "val Loss: 0.8355\n",
            "Epoch time taken: 0m 17s\n",
            "\n",
            "Training complete in 2m 57s\n",
            "Best Validate Loss: 0.8355\n"
          ]
        }
      ]
    },
    {
      "cell_type": "markdown",
      "source": [
        "## Move tensors to CPU before plotting"
      ],
      "metadata": {
        "id": "V557YUksleB4"
      }
    },
    {
      "cell_type": "code",
      "source": [
        "tr_loss_history_cpu = [item.cpu().detach().numpy() if isinstance(item, torch.Tensor) else item for item in tr_loss_history]\n",
        "va_loss_history_cpu = [item.cpu().detach().numpy() if isinstance(item, torch.Tensor) else item for item in va_loss_history]"
      ],
      "metadata": {
        "id": "pB3UNRm4lgp8"
      },
      "execution_count": 10,
      "outputs": []
    },
    {
      "cell_type": "markdown",
      "source": [
        "## Plot the loss curves"
      ],
      "metadata": {
        "id": "Mra1dXBxm4wz"
      }
    },
    {
      "cell_type": "code",
      "source": [
        "plt.figure(figsize=(10, 6))\n",
        "plt.plot(tr_loss_history_cpu, label=\"Train\", linewidth=2)\n",
        "plt.plot(va_loss_history_cpu, label=\"Validation\", linewidth=2)\n",
        "plt.title('Denoise Autoencoder Training and Validation Loss Over Epochs', fontsize=16)\n",
        "plt.xlabel('Epoch', fontsize=14)\n",
        "plt.ylabel('Loss', fontsize=14)\n",
        "plt.legend(fontsize=12)"
      ],
      "metadata": {
        "colab": {
          "base_uri": "https://localhost:8080/",
          "height": 588
        },
        "id": "KC6Yo79Jm76j",
        "outputId": "86f5d873-406c-408f-f01c-b5d3320c341b"
      },
      "execution_count": 11,
      "outputs": [
        {
          "output_type": "execute_result",
          "data": {
            "text/plain": [
              "<matplotlib.legend.Legend at 0x7d2f58f22170>"
            ]
          },
          "metadata": {},
          "execution_count": 11
        },
        {
          "output_type": "display_data",
          "data": {
            "text/plain": [
              "<Figure size 1000x600 with 1 Axes>"
            ],
            "image/png": "[encoded data removed]"
          },
          "metadata": {}
        }
      ]
    },
    {
      "cell_type": "markdown",
      "source": [
        "## Test the model on the test set (and Plot)"
      ],
      "metadata": {
        "id": "_4KHVovqm95K"
      }
    },
    {
      "cell_type": "code",
      "source": [
        "model.eval()\n",
        "test_loss = 0.0\n",
        "\n",
        "with torch.no_grad():\n",
        "    for inputs, labels in Ts_dataloader:\n",
        "        inputs = inputs.to(device)\n",
        "        inputs_noisy = add_noise(inputs)\n",
        "        outputs = model(inputs_noisy)\n",
        "        test_loss += criterion(outputs, inputs).item() * inputs.size(0)\n",
        "\n",
        "average_test_loss = test_loss / len(Ts_dataloader.dataset)\n",
        "print('Average Test Loss: {:.4f}'.format(average_test_loss))\n",
        "\n",
        "# Plot the test loss as a horizontal line for comparison\n",
        "plt.axhline(y=average_test_loss, color='r', linestyle='--', label=\"Test Loss (Avg. {:.4f})\".format(average_test_loss))\n",
        "\n",
        "# Display the plot\n",
        "plt.legend()\n",
        "plt.grid(True)  # Add grid for better readability\n",
        "plt.show()"
      ],
      "metadata": {
        "colab": {
          "base_uri": "https://localhost:8080/",
          "height": 452
        },
        "id": "hsCxjkzjnAxm",
        "outputId": "e2b9117f-7555-4a64-92fa-a9507540fad8"
      },
      "execution_count": 12,
      "outputs": [
        {
          "output_type": "stream",
          "name": "stdout",
          "text": [
            "Average Test Loss: 0.8340\n"
          ]
        },
        {
          "output_type": "display_data",
          "data": {
            "text/plain": [
              "<Figure size 640x480 with 1 Axes>"
            ],
            "image/png": "[encoded data removed]"
          },
          "metadata": {}
        }
      ]
    },
    {
      "cell_type": "code",
      "source": [],
      "metadata": {
        "id": "8UdOkn2zb2x2"
      },
      "execution_count": 12,
      "outputs": []
    },
    {
      "cell_type": "code",
      "source": [],
      "metadata": {
        "id": "WAnFDZtlas09"
      },
      "execution_count": 12,
      "outputs": []
    },
    {
      "cell_type": "code",
      "source": [],
      "metadata": {
        "id": "9xLDIqYdas3a"
      },
      "execution_count": 12,
      "outputs": []
    },
    {
      "cell_type": "code",
      "source": [],
      "metadata": {
        "id": "qHbkx3UAas6C"
      },
      "execution_count": 12,
      "outputs": []
    },
    {
      "cell_type": "code",
      "source": [],
      "metadata": {
        "id": "mUYr5Rscas81"
      },
      "execution_count": 12,
      "outputs": []
    },
    {
      "cell_type": "code",
      "source": [],
      "metadata": {
        "id": "jIpMcYSras_r"
      },
      "execution_count": 12,
      "outputs": []
    },
    {
      "cell_type": "code",
      "source": [],
      "metadata": {
        "id": "DfxtHoiLatCg"
      },
      "execution_count": 12,
      "outputs": []
    },
    {
      "cell_type": "code",
      "source": [],
      "metadata": {
        "id": "ALK4C0osatFS"
      },
      "execution_count": 12,
      "outputs": []
    },
    {
      "cell_type": "code",
      "source": [],
      "metadata": {
        "id": "9FoVkLxGatHx"
      },
      "execution_count": 12,
      "outputs": []
    },
    {
      "cell_type": "code",
      "source": [],
      "metadata": {
        "id": "mWs9H2eHatKr"
      },
      "execution_count": 12,
      "outputs": []
    },
    {
      "cell_type": "code",
      "source": [],
      "metadata": {
        "id": "e7arMlBCatNa"
      },
      "execution_count": 12,
      "outputs": []
    },
    {
      "cell_type": "code",
      "source": [],
      "metadata": {
        "id": "eojWMf4EatQO"
      },
      "execution_count": 12,
      "outputs": []
    },
    {
      "cell_type": "code",
      "source": [],
      "metadata": {
        "id": "RoqCy_B9atTW"
      },
      "execution_count": 12,
      "outputs": []
    },
    {
      "cell_type": "code",
      "source": [],
      "metadata": {
        "id": "lmgefh_eatWd"
      },
      "execution_count": 12,
      "outputs": []
    },
    {
      "cell_type": "code",
      "source": [],
      "metadata": {
        "id": "ryIUqwadatZl"
      },
      "execution_count": 12,
      "outputs": []
    },
    {
      "cell_type": "code",
      "source": [],
      "metadata": {
        "id": "3xTzEJcPatcm"
      },
      "execution_count": 12,
      "outputs": []
    },
    {
      "cell_type": "code",
      "source": [],
      "metadata": {
        "id": "MULmAbRCatfh"
      },
      "execution_count": 12,
      "outputs": []
    },
    {
      "cell_type": "code",
      "source": [],
      "metadata": {
        "id": "0DvXJxcnatiL"
      },
      "execution_count": 12,
      "outputs": []
    },
    {
      "cell_type": "code",
      "source": [],
      "metadata": {
        "id": "N0QsMX-qatlA"
      },
      "execution_count": 12,
      "outputs": []
    },
    {
      "cell_type": "code",
      "source": [],
      "metadata": {
        "id": "_S_xpoDAatn-"
      },
      "execution_count": 12,
      "outputs": []
    },
    {
      "cell_type": "code",
      "source": [],
      "metadata": {
        "id": "DsLMD1Apatqe"
      },
      "execution_count": 12,
      "outputs": []
    },
    {
      "cell_type": "code",
      "source": [],
      "metadata": {
        "id": "1r2xV1GrattH"
      },
      "execution_count": 12,
      "outputs": []
    },
    {
      "cell_type": "code",
      "source": [],
      "metadata": {
        "id": "5T_169kJatv8"
      },
      "execution_count": 12,
      "outputs": []
    },
    {
      "cell_type": "code",
      "source": [],
      "metadata": {
        "id": "YiIx1ymwatyt"
      },
      "execution_count": 12,
      "outputs": []
    },
    {
      "cell_type": "code",
      "source": [],
      "metadata": {
        "id": "JPN6qYVmat1U"
      },
      "execution_count": 12,
      "outputs": []
    },
    {
      "cell_type": "code",
      "source": [],
      "metadata": {
        "id": "WwEYHgZoat3w"
      },
      "execution_count": 12,
      "outputs": []
    },
    {
      "cell_type": "code",
      "source": [],
      "metadata": {
        "id": "0mKAtlyUat6A"
      },
      "execution_count": 12,
      "outputs": []
    },
    {
      "cell_type": "code",
      "source": [],
      "metadata": {
        "id": "46Bl00Qbat9W"
      },
      "execution_count": 12,
      "outputs": []
    }
  ]
}