{
  "nbformat": 4,
  "nbformat_minor": 0,
  "metadata": {
    "colab": {
      "provenance": [],
      "gpuType": "T4",
      "toc_visible": true
    },
    "kernelspec": {
      "name": "python3",
      "display_name": "Python 3"
    },
    "language_info": {
      "name": "python"
    },
    "accelerator": "GPU"
  },
  "cells": [
    {
      "cell_type": "markdown",
      "source": [
        "# Create your variational autoencoder using convolutional layers."
      ],
      "metadata": {
        "id": "9QEtc372b5wP"
      }
    },
    {
      "cell_type": "markdown",
      "source": [
        "## Import necesssary library"
      ],
      "metadata": {
        "id": "BO7PCuwmb9bV"
      }
    },
    {
      "cell_type": "code",
      "execution_count": 1,
      "metadata": {
        "id": "9cybskDbaqE7"
      },
      "outputs": [],
      "source": [
        "import time\n",
        "import copy\n",
        "import torch\n",
        "import torch.nn as nn\n",
        "import torch.optim as optim\n",
        "import numpy as np\n",
        "import matplotlib.pyplot as plt\n",
        "from torch.utils.data import DataLoader, Subset\n",
        "from torchvision import datasets, transforms\n",
        "from sklearn.model_selection import train_test_split\n",
        "from torchsummary import summary"
      ]
    },
    {
      "cell_type": "markdown",
      "source": [
        "## Define the device"
      ],
      "metadata": {
        "id": "eeT5UeI0cGGK"
      }
    },
    {
      "cell_type": "code",
      "source": [
        "device = torch.device(\"cuda:0\" if torch.cuda.is_available() else \"cpu\")\n",
        "device"
      ],
      "metadata": {
        "colab": {
          "base_uri": "https://localhost:8080/"
        },
        "id": "2AXsUqoVb2dV",
        "outputId": "6f9f99b1-a1b8-443d-b7d0-dcbd1c549e10"
      },
      "execution_count": 2,
      "outputs": [
        {
          "output_type": "execute_result",
          "data": {
            "text/plain": [
              "device(type='cuda', index=0)"
            ]
          },
          "metadata": {},
          "execution_count": 2
        }
      ]
    },
    {
      "cell_type": "markdown",
      "source": [
        "## Define the DataLoader for training and validation datasets"
      ],
      "metadata": {
        "id": "WLY8nS7ncNk3"
      }
    },
    {
      "cell_type": "code",
      "source": [
        "transform = transforms.Compose([transforms.ToTensor(), transforms.Normalize((0.5,), (0.5,))])\n",
        "\n",
        "mnist_train = datasets.MNIST(root='./data', train=True, download=True, transform=transform)\n",
        "mnist_test = datasets.MNIST(root='./data', train=False, download=True, transform=transform)\n",
        "\n",
        "# Constants\n",
        "VAL_SIZE = 0.2\n",
        "BATCH_SIZE = 64\n",
        "\n",
        "# Generate indices for train-validation split\n",
        "train_indices, val_indices, _, _ = train_test_split(\n",
        "    range(len(mnist_train)),\n",
        "    mnist_train.targets,\n",
        "    stratify=mnist_train.targets,\n",
        "    test_size=VAL_SIZE,\n",
        ")\n",
        "\n",
        "# Generate Subset based on indices\n",
        "train_split = Subset(mnist_train, train_indices)\n",
        "val_split = Subset(mnist_train, val_indices)\n",
        "\n",
        "# Create DataLoaders\n",
        "Tr_dataloader = DataLoader(train_split, batch_size=BATCH_SIZE, shuffle=True)\n",
        "Va_dataloader = DataLoader(val_split, batch_size=BATCH_SIZE, shuffle=True)\n",
        "Ts_dataloader = DataLoader(mnist_test, batch_size=BATCH_SIZE, shuffle=True)"
      ],
      "metadata": {
        "id": "DTmokqFrb2f4",
        "colab": {
          "base_uri": "https://localhost:8080/"
        },
        "outputId": "30fb783e-aafb-439a-e132-d72e122b00b1"
      },
      "execution_count": 3,
      "outputs": [
        {
          "output_type": "stream",
          "name": "stdout",
          "text": [
            "Downloading http://yann.lecun.com/exdb/mnist/train-images-idx3-ubyte.gz\n",
            "Downloading http://yann.lecun.com/exdb/mnist/train-images-idx3-ubyte.gz to ./data/MNIST/raw/train-images-idx3-ubyte.gz\n"
          ]
        },
        {
          "output_type": "stream",
          "name": "stderr",
          "text": [
            "100%|██████████| 9912422/9912422 [00:00<00:00, 241539501.09it/s]"
          ]
        },
        {
          "output_type": "stream",
          "name": "stdout",
          "text": [
            "Extracting ./data/MNIST/raw/train-images-idx3-ubyte.gz to ./data/MNIST/raw\n"
          ]
        },
        {
          "output_type": "stream",
          "name": "stderr",
          "text": [
            "\n"
          ]
        },
        {
          "output_type": "stream",
          "name": "stdout",
          "text": [
            "\n",
            "Downloading http://yann.lecun.com/exdb/mnist/train-labels-idx1-ubyte.gz\n",
            "Downloading http://yann.lecun.com/exdb/mnist/train-labels-idx1-ubyte.gz to ./data/MNIST/raw/train-labels-idx1-ubyte.gz\n"
          ]
        },
        {
          "output_type": "stream",
          "name": "stderr",
          "text": [
            "100%|██████████| 28881/28881 [00:00<00:00, 108447353.47it/s]\n"
          ]
        },
        {
          "output_type": "stream",
          "name": "stdout",
          "text": [
            "Extracting ./data/MNIST/raw/train-labels-idx1-ubyte.gz to ./data/MNIST/raw\n",
            "\n",
            "Downloading http://yann.lecun.com/exdb/mnist/t10k-images-idx3-ubyte.gz\n",
            "Downloading http://yann.lecun.com/exdb/mnist/t10k-images-idx3-ubyte.gz to ./data/MNIST/raw/t10k-images-idx3-ubyte.gz\n"
          ]
        },
        {
          "output_type": "stream",
          "name": "stderr",
          "text": [
            "100%|██████████| 1648877/1648877 [00:00<00:00, 88991576.76it/s]"
          ]
        },
        {
          "output_type": "stream",
          "name": "stdout",
          "text": [
            "Extracting ./data/MNIST/raw/t10k-images-idx3-ubyte.gz to ./data/MNIST/raw\n",
            "\n",
            "Downloading http://yann.lecun.com/exdb/mnist/t10k-labels-idx1-ubyte.gz\n"
          ]
        },
        {
          "output_type": "stream",
          "name": "stderr",
          "text": [
            "\n"
          ]
        },
        {
          "output_type": "stream",
          "name": "stdout",
          "text": [
            "Downloading http://yann.lecun.com/exdb/mnist/t10k-labels-idx1-ubyte.gz to ./data/MNIST/raw/t10k-labels-idx1-ubyte.gz\n"
          ]
        },
        {
          "output_type": "stream",
          "name": "stderr",
          "text": [
            "100%|██████████| 4542/4542 [00:00<00:00, 10601295.92it/s]\n"
          ]
        },
        {
          "output_type": "stream",
          "name": "stdout",
          "text": [
            "Extracting ./data/MNIST/raw/t10k-labels-idx1-ubyte.gz to ./data/MNIST/raw\n",
            "\n"
          ]
        }
      ]
    },
    {
      "cell_type": "markdown",
      "source": [
        "## Define the Variational Autoencoder"
      ],
      "metadata": {
        "id": "0DxeFxX3cVAD"
      }
    },
    {
      "cell_type": "code",
      "source": [
        "class VariationalAutoencoder(nn.Module):\n",
        "    def __init__(self):\n",
        "        super(VariationalAutoencoder, self).__init__()\n",
        "\n",
        "        self.encoder = nn.Sequential(\n",
        "            nn.Conv2d(1, 32, kernel_size=3, stride=1, padding=1),\n",
        "            nn.ReLU(),\n",
        "            nn.MaxPool2d(kernel_size=2, stride=2),\n",
        "            nn.Conv2d(32, 64, kernel_size=3, stride=1, padding=1),\n",
        "            nn.ReLU(),\n",
        "            nn.MaxPool2d(kernel_size=2, stride=2),\n",
        "            nn.Flatten()\n",
        "        )\n",
        "\n",
        "        self.fc_mu = nn.Linear(64 * 7 * 7, 32)\n",
        "        self.fc_logvar = nn.Linear(64 * 7 * 7, 32)\n",
        "\n",
        "        self.decoder = nn.Sequential(\n",
        "            nn.Linear(32, 64 * 7 * 7),\n",
        "            nn.Unflatten(1, (64, 7, 7)),\n",
        "            nn.ConvTranspose2d(64, 32, kernel_size=2, stride=2),\n",
        "            nn.ReLU(),\n",
        "            nn.ConvTranspose2d(32, 1, kernel_size=2, stride=2),\n",
        "            nn.Sigmoid()\n",
        "        )\n",
        "\n",
        "    def reparameterize(self, mu, logvar):\n",
        "        std = torch.exp(0.5 * logvar)\n",
        "        eps = torch.randn_like(std)\n",
        "        return mu + eps * std\n",
        "\n",
        "    def forward(self, x):\n",
        "        x = x.to(torch.float32)  # Convert input to float32\n",
        "        encoded = self.encoder(x)\n",
        "        mu = self.fc_mu(encoded)\n",
        "        logvar = self.fc_logvar(encoded)\n",
        "        z = self.reparameterize(mu, logvar)\n",
        "        decoded = self.decoder(z)\n",
        "        return decoded, mu, logvar"
      ],
      "metadata": {
        "id": "wDbfYf6ab2iU"
      },
      "execution_count": 4,
      "outputs": []
    },
    {
      "cell_type": "markdown",
      "source": [
        "## Define the training function"
      ],
      "metadata": {
        "id": "bLpXJQUecdVL"
      }
    },
    {
      "cell_type": "code",
      "source": [
        "def train_VAE(model, dataloaders, criterion, optimizer, num_epochs=10):\n",
        "    start = time.time()\n",
        "\n",
        "    va_loss_history = []\n",
        "    tr_loss_history = []\n",
        "\n",
        "    best_model_wts = copy.deepcopy(model.state_dict())\n",
        "    best_val = np.inf\n",
        "\n",
        "    for epoch in range(num_epochs):\n",
        "        epoch_start = time.time()\n",
        "\n",
        "        print('Epoch {}/{}'.format(epoch, num_epochs - 1))\n",
        "        print('-' * 10)\n",
        "\n",
        "        for phase in ['train', 'val']:\n",
        "            if phase == 'train':\n",
        "                model.train()\n",
        "                dataloader = dataloaders['train']\n",
        "            else:\n",
        "                model.eval()\n",
        "                dataloader = dataloaders['val']\n",
        "\n",
        "            running_loss = 0.0\n",
        "\n",
        "            for inputs, labels in dataloader:\n",
        "                inputs = inputs.to(device)\n",
        "                optimizer.zero_grad()\n",
        "\n",
        "                with torch.set_grad_enabled(phase == 'train'):\n",
        "                    outputs, mu, logvar = model(inputs)\n",
        "                    loss = criterion(outputs, inputs, mu, logvar)\n",
        "\n",
        "                    if phase == 'train':\n",
        "                        loss.backward()\n",
        "                        optimizer.step()\n",
        "\n",
        "                running_loss += loss.item() * inputs.size(0)\n",
        "\n",
        "            epoch_loss = running_loss / len(dataloader.dataset)\n",
        "            print('{} Loss: {:.4f}'.format(phase, epoch_loss))\n",
        "\n",
        "            if phase == 'val' and epoch_loss < best_val:\n",
        "                best_val = epoch_loss\n",
        "                best_model_wts = copy.deepcopy(model.state_dict())\n",
        "\n",
        "            # Store the loss values correctly\n",
        "            if phase == 'val':\n",
        "                va_loss_history.append(epoch_loss)\n",
        "            if phase == 'train':\n",
        "                tr_loss_history.append(epoch_loss)  # Append the current loss to the list\n",
        "\n",
        "        epoch_end = time.time()\n",
        "        elapsed_epoch = epoch_end - epoch_start\n",
        "        print(\"Epoch time taken: {:.0f}m {:.0f}s\".format(elapsed_epoch // 60, elapsed_epoch % 60))\n",
        "        print()\n",
        "\n",
        "    time_elapsed = time.time() - start\n",
        "    print('Training complete in {:.0f}m {:.0f}s'.format(time_elapsed // 60, time_elapsed % 60))\n",
        "    print('Best Validate Loss: {:.4f}'.format(best_val))\n",
        "    model.load_state_dict(best_model_wts)\n",
        "    return model, tr_loss_history, va_loss_history"
      ],
      "metadata": {
        "id": "FaZdVrFJb2kq"
      },
      "execution_count": 5,
      "outputs": []
    },
    {
      "cell_type": "markdown",
      "source": [
        "## Move model to target device (GPU)"
      ],
      "metadata": {
        "id": "ppIya76uctW9"
      }
    },
    {
      "cell_type": "code",
      "source": [
        "model = VariationalAutoencoder().to(device)\n",
        "print(model)\n",
        "summary(model, input_size=(1, 28, 28))  # Assuming MNIST images are 28x28 pixels"
      ],
      "metadata": {
        "colab": {
          "base_uri": "https://localhost:8080/"
        },
        "id": "k0rfGFAxb2nQ",
        "outputId": "761083e3-4696-4216-e31a-68e25d8cf206"
      },
      "execution_count": 6,
      "outputs": [
        {
          "output_type": "stream",
          "name": "stdout",
          "text": [
            "VariationalAutoencoder(\n",
            "  (encoder): Sequential(\n",
            "    (0): Conv2d(1, 32, kernel_size=(3, 3), stride=(1, 1), padding=(1, 1))\n",
            "    (1): ReLU()\n",
            "    (2): MaxPool2d(kernel_size=2, stride=2, padding=0, dilation=1, ceil_mode=False)\n",
            "    (3): Conv2d(32, 64, kernel_size=(3, 3), stride=(1, 1), padding=(1, 1))\n",
            "    (4): ReLU()\n",
            "    (5): MaxPool2d(kernel_size=2, stride=2, padding=0, dilation=1, ceil_mode=False)\n",
            "    (6): Flatten(start_dim=1, end_dim=-1)\n",
            "  )\n",
            "  (fc_mu): Linear(in_features=3136, out_features=32, bias=True)\n",
            "  (fc_logvar): Linear(in_features=3136, out_features=32, bias=True)\n",
            "  (decoder): Sequential(\n",
            "    (0): Linear(in_features=32, out_features=3136, bias=True)\n",
            "    (1): Unflatten(dim=1, unflattened_size=(64, 7, 7))\n",
            "    (2): ConvTranspose2d(64, 32, kernel_size=(2, 2), stride=(2, 2))\n",
            "    (3): ReLU()\n",
            "    (4): ConvTranspose2d(32, 1, kernel_size=(2, 2), stride=(2, 2))\n",
            "    (5): Sigmoid()\n",
            "  )\n",
            ")\n",
            "----------------------------------------------------------------\n",
            "        Layer (type)               Output Shape         Param #\n",
            "================================================================\n",
            "            Conv2d-1           [-1, 32, 28, 28]             320\n",
            "              ReLU-2           [-1, 32, 28, 28]               0\n",
            "         MaxPool2d-3           [-1, 32, 14, 14]               0\n",
            "            Conv2d-4           [-1, 64, 14, 14]          18,496\n",
            "              ReLU-5           [-1, 64, 14, 14]               0\n",
            "         MaxPool2d-6             [-1, 64, 7, 7]               0\n",
            "           Flatten-7                 [-1, 3136]               0\n",
            "            Linear-8                   [-1, 32]         100,384\n",
            "            Linear-9                   [-1, 32]         100,384\n",
            "           Linear-10                 [-1, 3136]         103,488\n",
            "        Unflatten-11             [-1, 64, 7, 7]               0\n",
            "  ConvTranspose2d-12           [-1, 32, 14, 14]           8,224\n",
            "             ReLU-13           [-1, 32, 14, 14]               0\n",
            "  ConvTranspose2d-14            [-1, 1, 28, 28]             129\n",
            "          Sigmoid-15            [-1, 1, 28, 28]               0\n",
            "================================================================\n",
            "Total params: 331,425\n",
            "Trainable params: 331,425\n",
            "Non-trainable params: 0\n",
            "----------------------------------------------------------------\n",
            "Input size (MB): 0.00\n",
            "Forward/backward pass size (MB): 0.83\n",
            "Params size (MB): 1.26\n",
            "Estimated Total Size (MB): 2.09\n",
            "----------------------------------------------------------------\n"
          ]
        }
      ]
    },
    {
      "cell_type": "markdown",
      "source": [
        "## Define the criterion and optimizer"
      ],
      "metadata": {
        "id": "VaI8n8eVj_B5"
      }
    },
    {
      "cell_type": "code",
      "source": [
        "class VAELoss(nn.Module):\n",
        "    def __init__(self):\n",
        "        super(VAELoss, self).__init__()\n",
        "\n",
        "    def forward(self, recon_x, x, mu, logvar):\n",
        "        # Denormalize the inputs to [0, 1]\n",
        "        x = (x + 1) / 2\n",
        "        recon_x = (recon_x + 1) / 2\n",
        "\n",
        "        # Calculate BCELoss\n",
        "        bce_loss = nn.BCELoss(reduction='sum')(recon_x, x)\n",
        "\n",
        "        # Calculate KLDLoss\n",
        "        kld_loss = -0.5 * torch.sum(1 + logvar - mu.pow(2) - logvar.exp())\n",
        "\n",
        "        return bce_loss + kld_loss\n",
        "\n",
        "criterion = VAELoss()\n",
        "params_to_update = model.parameters()\n",
        "optimizer = optim.Adam(params_to_update, lr=0.001)"
      ],
      "metadata": {
        "id": "cSPbiRNykIcK"
      },
      "execution_count": 7,
      "outputs": []
    },
    {
      "cell_type": "markdown",
      "source": [
        "## Train the model"
      ],
      "metadata": {
        "id": "m71Wx8atkI8L"
      }
    },
    {
      "cell_type": "code",
      "source": [
        "model, tr_loss_history, va_loss_history = train_VAE(model, {\"train\": Tr_dataloader, \"val\": Va_dataloader}, criterion, optimizer)"
      ],
      "metadata": {
        "colab": {
          "base_uri": "https://localhost:8080/"
        },
        "id": "sBiX8SM8b2pr",
        "outputId": "27d02a66-4092-4f01-f0f0-a8214e7d74eb"
      },
      "execution_count": 8,
      "outputs": [
        {
          "output_type": "stream",
          "name": "stdout",
          "text": [
            "Epoch 0/9\n",
            "----------\n",
            "train Loss: 35814.6909\n",
            "val Loss: 34961.5464\n",
            "Epoch time taken: 0m 18s\n",
            "\n",
            "Epoch 1/9\n",
            "----------\n",
            "train Loss: 34933.1798\n",
            "val Loss: 34792.2564\n",
            "Epoch time taken: 0m 17s\n",
            "\n",
            "Epoch 2/9\n",
            "----------\n",
            "train Loss: 34805.1226\n",
            "val Loss: 34734.5674\n",
            "Epoch time taken: 0m 17s\n",
            "\n",
            "Epoch 3/9\n",
            "----------\n",
            "train Loss: 34779.8354\n",
            "val Loss: 34733.1651\n",
            "Epoch time taken: 0m 17s\n",
            "\n",
            "Epoch 4/9\n",
            "----------\n",
            "train Loss: 34779.4788\n",
            "val Loss: 34733.0652\n",
            "Epoch time taken: 0m 17s\n",
            "\n",
            "Epoch 5/9\n",
            "----------\n",
            "train Loss: 34779.4170\n",
            "val Loss: 34733.0291\n",
            "Epoch time taken: 0m 17s\n",
            "\n",
            "Epoch 6/9\n",
            "----------\n",
            "train Loss: 34779.3907\n",
            "val Loss: 34733.0110\n",
            "Epoch time taken: 0m 17s\n",
            "\n",
            "Epoch 7/9\n",
            "----------\n",
            "train Loss: 34779.3788\n",
            "val Loss: 34733.0029\n",
            "Epoch time taken: 0m 18s\n",
            "\n",
            "Epoch 8/9\n",
            "----------\n",
            "train Loss: 34779.3711\n",
            "val Loss: 34732.9952\n",
            "Epoch time taken: 0m 17s\n",
            "\n",
            "Epoch 9/9\n",
            "----------\n",
            "train Loss: 34779.3672\n",
            "val Loss: 34732.9934\n",
            "Epoch time taken: 0m 16s\n",
            "\n",
            "Training complete in 2m 51s\n",
            "Best Validate Loss: 34732.9934\n"
          ]
        }
      ]
    },
    {
      "cell_type": "markdown",
      "source": [
        "## Move tensors to CPU before plotting"
      ],
      "metadata": {
        "id": "V557YUksleB4"
      }
    },
    {
      "cell_type": "code",
      "source": [
        "tr_loss_history_cpu = [item.cpu().detach().numpy() if isinstance(item, torch.Tensor) else item for item in tr_loss_history]\n",
        "va_loss_history_cpu = [item.cpu().detach().numpy() if isinstance(item, torch.Tensor) else item for item in va_loss_history]"
      ],
      "metadata": {
        "id": "pB3UNRm4lgp8"
      },
      "execution_count": 9,
      "outputs": []
    },
    {
      "cell_type": "markdown",
      "source": [
        "## Plot the loss curves"
      ],
      "metadata": {
        "id": "Mra1dXBxm4wz"
      }
    },
    {
      "cell_type": "code",
      "source": [
        "plt.figure(figsize=(10, 6))\n",
        "plt.plot(tr_loss_history_cpu, label=\"Train\", linewidth=2)\n",
        "plt.plot(va_loss_history_cpu, label=\"Validation\", linewidth=2)\n",
        "plt.title('Variational Autoencoder Training and Validation Loss Over Epochs', fontsize=16)\n",
        "plt.xlabel('Epoch', fontsize=14)\n",
        "plt.ylabel('Loss', fontsize=14)\n",
        "plt.legend(fontsize=12)"
      ],
      "metadata": {
        "colab": {
          "base_uri": "https://localhost:8080/",
          "height": 588
        },
        "id": "KC6Yo79Jm76j",
        "outputId": "46700e94-d9dd-40a7-a981-f47a87883d1a"
      },
      "execution_count": 11,
      "outputs": [
        {
          "output_type": "execute_result",
          "data": {
            "text/plain": [
              "<matplotlib.legend.Legend at 0x7e7b4864f160>"
            ]
          },
          "metadata": {},
          "execution_count": 11
        },
        {
          "output_type": "display_data",
          "data": {
            "text/plain": [
              "<Figure size 1000x600 with 1 Axes>"
            ],
            "image/png": "[encoded data removed]"
          },
          "metadata": {}
        }
      ]
    },
    {
      "cell_type": "markdown",
      "source": [
        "## Test the model on the test set (and Plot)"
      ],
      "metadata": {
        "id": "_4KHVovqm95K"
      }
    },
    {
      "cell_type": "code",
      "source": [
        "# Test the VAE model on the test set\n",
        "model.eval()\n",
        "test_loss = 0.0\n",
        "\n",
        "with torch.no_grad():\n",
        "    for inputs, labels in Ts_dataloader:\n",
        "        inputs = inputs.to(device)\n",
        "        outputs, mu, logvar = model(inputs)\n",
        "        loss = criterion(outputs, inputs, mu, logvar)\n",
        "        test_loss += loss.item() * inputs.size(0)\n",
        "\n",
        "average_test_loss = test_loss / len(Ts_dataloader.dataset)\n",
        "print('Average Test Loss: {:.4f}'.format(average_test_loss))\n",
        "\n",
        "# Plot the test loss as a horizontal line for comparison\n",
        "plt.axhline(y=average_test_loss, color='r', linestyle='--', label=\"Test Loss (Avg. {:.4f})\".format(average_test_loss))\n",
        "\n",
        "# Display the plot\n",
        "plt.legend()\n",
        "plt.grid(True)  # Add grid for better readability\n",
        "plt.show()"
      ],
      "metadata": {
        "colab": {
          "base_uri": "https://localhost:8080/",
          "height": 447
        },
        "id": "hsCxjkzjnAxm",
        "outputId": "e0011676-02bc-4bf0-af48-a4cb3b1f5fa2"
      },
      "execution_count": 13,
      "outputs": [
        {
          "output_type": "stream",
          "name": "stdout",
          "text": [
            "Average Test Loss: 34737.6303\n"
          ]
        },
        {
          "output_type": "display_data",
          "data": {
            "text/plain": [
              "<Figure size 640x480 with 1 Axes>"
            ],
            "image/png": "[encoded data removed]"
          },
          "metadata": {}
        }
      ]
    },
    {
      "cell_type": "code",
      "source": [],
      "metadata": {
        "id": "9xLDIqYdas3a"
      },
      "execution_count": null,
      "outputs": []
    },
    {
      "cell_type": "code",
      "source": [],
      "metadata": {
        "id": "qHbkx3UAas6C"
      },
      "execution_count": null,
      "outputs": []
    },
    {
      "cell_type": "code",
      "source": [],
      "metadata": {
        "id": "mUYr5Rscas81"
      },
      "execution_count": null,
      "outputs": []
    },
    {
      "cell_type": "code",
      "source": [],
      "metadata": {
        "id": "jIpMcYSras_r"
      },
      "execution_count": null,
      "outputs": []
    },
    {
      "cell_type": "code",
      "source": [],
      "metadata": {
        "id": "DfxtHoiLatCg"
      },
      "execution_count": null,
      "outputs": []
    },
    {
      "cell_type": "code",
      "source": [],
      "metadata": {
        "id": "ALK4C0osatFS"
      },
      "execution_count": null,
      "outputs": []
    },
    {
      "cell_type": "code",
      "source": [],
      "metadata": {
        "id": "9FoVkLxGatHx"
      },
      "execution_count": null,
      "outputs": []
    },
    {
      "cell_type": "code",
      "source": [],
      "metadata": {
        "id": "mWs9H2eHatKr"
      },
      "execution_count": null,
      "outputs": []
    },
    {
      "cell_type": "code",
      "source": [],
      "metadata": {
        "id": "e7arMlBCatNa"
      },
      "execution_count": null,
      "outputs": []
    },
    {
      "cell_type": "code",
      "source": [],
      "metadata": {
        "id": "eojWMf4EatQO"
      },
      "execution_count": null,
      "outputs": []
    },
    {
      "cell_type": "code",
      "source": [],
      "metadata": {
        "id": "RoqCy_B9atTW"
      },
      "execution_count": null,
      "outputs": []
    },
    {
      "cell_type": "code",
      "source": [],
      "metadata": {
        "id": "lmgefh_eatWd"
      },
      "execution_count": null,
      "outputs": []
    },
    {
      "cell_type": "code",
      "source": [],
      "metadata": {
        "id": "ryIUqwadatZl"
      },
      "execution_count": null,
      "outputs": []
    },
    {
      "cell_type": "code",
      "source": [],
      "metadata": {
        "id": "3xTzEJcPatcm"
      },
      "execution_count": null,
      "outputs": []
    },
    {
      "cell_type": "code",
      "source": [],
      "metadata": {
        "id": "MULmAbRCatfh"
      },
      "execution_count": null,
      "outputs": []
    },
    {
      "cell_type": "code",
      "source": [],
      "metadata": {
        "id": "0DvXJxcnatiL"
      },
      "execution_count": null,
      "outputs": []
    },
    {
      "cell_type": "code",
      "source": [],
      "metadata": {
        "id": "N0QsMX-qatlA"
      },
      "execution_count": null,
      "outputs": []
    },
    {
      "cell_type": "code",
      "source": [],
      "metadata": {
        "id": "_S_xpoDAatn-"
      },
      "execution_count": null,
      "outputs": []
    },
    {
      "cell_type": "code",
      "source": [],
      "metadata": {
        "id": "DsLMD1Apatqe"
      },
      "execution_count": null,
      "outputs": []
    },
    {
      "cell_type": "code",
      "source": [],
      "metadata": {
        "id": "1r2xV1GrattH"
      },
      "execution_count": null,
      "outputs": []
    },
    {
      "cell_type": "code",
      "source": [],
      "metadata": {
        "id": "5T_169kJatv8"
      },
      "execution_count": null,
      "outputs": []
    },
    {
      "cell_type": "code",
      "source": [],
      "metadata": {
        "id": "YiIx1ymwatyt"
      },
      "execution_count": null,
      "outputs": []
    },
    {
      "cell_type": "code",
      "source": [],
      "metadata": {
        "id": "JPN6qYVmat1U"
      },
      "execution_count": null,
      "outputs": []
    },
    {
      "cell_type": "code",
      "source": [],
      "metadata": {
        "id": "WwEYHgZoat3w"
      },
      "execution_count": null,
      "outputs": []
    },
    {
      "cell_type": "code",
      "source": [],
      "metadata": {
        "id": "0mKAtlyUat6A"
      },
      "execution_count": null,
      "outputs": []
    },
    {
      "cell_type": "code",
      "source": [],
      "metadata": {
        "id": "46Bl00Qbat9W"
      },
      "execution_count": null,
      "outputs": []
    }
  ]
}